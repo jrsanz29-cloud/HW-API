{
 "cells": [
  {
   "cell_type": "markdown",
   "metadata": {},
   "source": [
    "# VacationPy\n",
    "----\n",
    "\n",
    "#### Note\n",
    "* Instructions have been included for each segment. You do not have to follow them exactly, but they are included to help you think through the steps."
   ]
  },
  {
   "cell_type": "code",
   "execution_count": 1,
   "metadata": {},
   "outputs": [],
   "source": [
    "# Dependencies and Setup\n",
    "import matplotlib.pyplot as plt\n",
    "import pandas as pd\n",
    "import numpy as np\n",
    "import requests\n",
    "import gmaps\n",
    "import os\n",
    "\n",
    "# Import API key\n",
    "from api_keys import g_key\n"
   ]
  },
  {
   "cell_type": "markdown",
   "metadata": {},
   "source": [
    "!pip install gmaps"
   ]
  },
  {
   "cell_type": "markdown",
   "metadata": {},
   "source": [
    "### Store Part I results into DataFrame\n",
    "* Load the csv exported in Part I to a DataFrame"
   ]
  },
  {
   "cell_type": "code",
   "execution_count": 2,
   "metadata": {},
   "outputs": [
    {
     "data": {
      "text/html": [
       "<div>\n",
       "<style scoped>\n",
       "    .dataframe tbody tr th:only-of-type {\n",
       "        vertical-align: middle;\n",
       "    }\n",
       "\n",
       "    .dataframe tbody tr th {\n",
       "        vertical-align: top;\n",
       "    }\n",
       "\n",
       "    .dataframe thead th {\n",
       "        text-align: right;\n",
       "    }\n",
       "</style>\n",
       "<table border=\"1\" class=\"dataframe\">\n",
       "  <thead>\n",
       "    <tr style=\"text-align: right;\">\n",
       "      <th></th>\n",
       "      <th>City_ID</th>\n",
       "      <th>City</th>\n",
       "      <th>Lat</th>\n",
       "      <th>Lng</th>\n",
       "      <th>Max Temp</th>\n",
       "      <th>Humidity</th>\n",
       "      <th>Cloudiness</th>\n",
       "      <th>Wind Speed</th>\n",
       "      <th>Country</th>\n",
       "      <th>Date</th>\n",
       "    </tr>\n",
       "  </thead>\n",
       "  <tbody>\n",
       "    <tr>\n",
       "      <td>0</td>\n",
       "      <td>0</td>\n",
       "      <td>narsaq</td>\n",
       "      <td>60.92</td>\n",
       "      <td>-46.05</td>\n",
       "      <td>33.80</td>\n",
       "      <td>43</td>\n",
       "      <td>100</td>\n",
       "      <td>19.46</td>\n",
       "      <td>GL</td>\n",
       "      <td>1579585175</td>\n",
       "    </tr>\n",
       "    <tr>\n",
       "      <td>1</td>\n",
       "      <td>1</td>\n",
       "      <td>mataura</td>\n",
       "      <td>-46.19</td>\n",
       "      <td>168.86</td>\n",
       "      <td>67.03</td>\n",
       "      <td>71</td>\n",
       "      <td>100</td>\n",
       "      <td>7.78</td>\n",
       "      <td>NZ</td>\n",
       "      <td>1579585160</td>\n",
       "    </tr>\n",
       "    <tr>\n",
       "      <td>2</td>\n",
       "      <td>2</td>\n",
       "      <td>punta arenas</td>\n",
       "      <td>-53.15</td>\n",
       "      <td>-70.92</td>\n",
       "      <td>55.40</td>\n",
       "      <td>66</td>\n",
       "      <td>75</td>\n",
       "      <td>17.22</td>\n",
       "      <td>CL</td>\n",
       "      <td>1579585177</td>\n",
       "    </tr>\n",
       "    <tr>\n",
       "      <td>3</td>\n",
       "      <td>3</td>\n",
       "      <td>bairiki</td>\n",
       "      <td>1.33</td>\n",
       "      <td>172.98</td>\n",
       "      <td>89.60</td>\n",
       "      <td>66</td>\n",
       "      <td>40</td>\n",
       "      <td>4.70</td>\n",
       "      <td>KI</td>\n",
       "      <td>1579585180</td>\n",
       "    </tr>\n",
       "    <tr>\n",
       "      <td>4</td>\n",
       "      <td>4</td>\n",
       "      <td>derzhavinsk</td>\n",
       "      <td>51.10</td>\n",
       "      <td>66.32</td>\n",
       "      <td>15.87</td>\n",
       "      <td>94</td>\n",
       "      <td>100</td>\n",
       "      <td>16.35</td>\n",
       "      <td>KZ</td>\n",
       "      <td>1579585180</td>\n",
       "    </tr>\n",
       "  </tbody>\n",
       "</table>\n",
       "</div>"
      ],
      "text/plain": [
       "   City_ID          City    Lat     Lng  Max Temp  Humidity  Cloudiness  \\\n",
       "0        0        narsaq  60.92  -46.05     33.80        43         100   \n",
       "1        1       mataura -46.19  168.86     67.03        71         100   \n",
       "2        2  punta arenas -53.15  -70.92     55.40        66          75   \n",
       "3        3       bairiki   1.33  172.98     89.60        66          40   \n",
       "4        4   derzhavinsk  51.10   66.32     15.87        94         100   \n",
       "\n",
       "   Wind Speed Country        Date  \n",
       "0       19.46      GL  1579585175  \n",
       "1        7.78      NZ  1579585160  \n",
       "2       17.22      CL  1579585177  \n",
       "3        4.70      KI  1579585180  \n",
       "4       16.35      KZ  1579585180  "
      ]
     },
     "execution_count": 2,
     "metadata": {},
     "output_type": "execute_result"
    }
   ],
   "source": [
    "city_data_df = pd.read_csv(\"output_data/cities.csv\")\n",
    "city_data_df.head()"
   ]
  },
  {
   "cell_type": "markdown",
   "metadata": {},
   "source": [
    "### Humidity Heatmap\n",
    "* Configure gmaps.\n",
    "* Use the Lat and Lng as locations and Humidity as the weight.\n",
    "* Add Heatmap layer to map."
   ]
  },
  {
   "cell_type": "code",
   "execution_count": 3,
   "metadata": {},
   "outputs": [],
   "source": [
    "#configure gmaps\n",
    "gmaps.configure(api_key = g_key)\n"
   ]
  },
  {
   "cell_type": "code",
   "execution_count": 11,
   "metadata": {},
   "outputs": [
    {
     "data": {
      "application/vnd.jupyter.widget-view+json": {
       "model_id": "ff0090f569cb4de7980e45c351d23a2e",
       "version_major": 2,
       "version_minor": 0
      },
      "text/plain": [
       "Figure(layout=FigureLayout(height='420px'))"
      ]
     },
     "metadata": {},
     "output_type": "display_data"
    }
   ],
   "source": [
    "#Heatmap of humidity\n",
    "\n",
    "locations = city_data_df[[\"Lat\",\"Lng\"]]\n",
    "humidity = city_data_df[\"Humidity\"]\n",
    "fig = gmaps.figure()\n",
    "heat_layer = gmaps.heatmap_layer(locations,weights = humidity, dissipating=False, max_intensity=300,point_radius=5)\n",
    "fig.add_layer(heat_layer)\n",
    "fig\n"
   ]
  },
  {
   "cell_type": "markdown",
   "metadata": {},
   "source": [
    "### Create new DataFrame fitting weather criteria\n",
    "* Narrow down the cities to fit weather conditions.\n",
    "* Drop any rows will null values."
   ]
  },
  {
   "cell_type": "code",
   "execution_count": 10,
   "metadata": {},
   "outputs": [
    {
     "data": {
      "text/html": [
       "<div>\n",
       "<style scoped>\n",
       "    .dataframe tbody tr th:only-of-type {\n",
       "        vertical-align: middle;\n",
       "    }\n",
       "\n",
       "    .dataframe tbody tr th {\n",
       "        vertical-align: top;\n",
       "    }\n",
       "\n",
       "    .dataframe thead th {\n",
       "        text-align: right;\n",
       "    }\n",
       "</style>\n",
       "<table border=\"1\" class=\"dataframe\">\n",
       "  <thead>\n",
       "    <tr style=\"text-align: right;\">\n",
       "      <th></th>\n",
       "      <th>City_ID</th>\n",
       "      <th>City</th>\n",
       "      <th>Lat</th>\n",
       "      <th>Lng</th>\n",
       "      <th>Max Temp</th>\n",
       "      <th>Humidity</th>\n",
       "      <th>Cloudiness</th>\n",
       "      <th>Wind Speed</th>\n",
       "      <th>Country</th>\n",
       "      <th>Date</th>\n",
       "    </tr>\n",
       "  </thead>\n",
       "  <tbody>\n",
       "    <tr>\n",
       "      <td>30</td>\n",
       "      <td>30</td>\n",
       "      <td>cape town</td>\n",
       "      <td>-33.93</td>\n",
       "      <td>18.42</td>\n",
       "      <td>71.01</td>\n",
       "      <td>82</td>\n",
       "      <td>0</td>\n",
       "      <td>3.36</td>\n",
       "      <td>ZA</td>\n",
       "      <td>1579584964</td>\n",
       "    </tr>\n",
       "    <tr>\n",
       "      <td>219</td>\n",
       "      <td>219</td>\n",
       "      <td>doha</td>\n",
       "      <td>25.29</td>\n",
       "      <td>51.53</td>\n",
       "      <td>75.00</td>\n",
       "      <td>63</td>\n",
       "      <td>0</td>\n",
       "      <td>6.93</td>\n",
       "      <td>QA</td>\n",
       "      <td>1579585266</td>\n",
       "    </tr>\n",
       "    <tr>\n",
       "      <td>334</td>\n",
       "      <td>334</td>\n",
       "      <td>sur</td>\n",
       "      <td>22.57</td>\n",
       "      <td>59.53</td>\n",
       "      <td>72.23</td>\n",
       "      <td>47</td>\n",
       "      <td>0</td>\n",
       "      <td>1.50</td>\n",
       "      <td>OM</td>\n",
       "      <td>1579585314</td>\n",
       "    </tr>\n",
       "    <tr>\n",
       "      <td>410</td>\n",
       "      <td>410</td>\n",
       "      <td>san patricio</td>\n",
       "      <td>19.22</td>\n",
       "      <td>-104.70</td>\n",
       "      <td>79.11</td>\n",
       "      <td>72</td>\n",
       "      <td>0</td>\n",
       "      <td>5.41</td>\n",
       "      <td>MX</td>\n",
       "      <td>1579585362</td>\n",
       "    </tr>\n",
       "    <tr>\n",
       "      <td>459</td>\n",
       "      <td>459</td>\n",
       "      <td>port lincoln</td>\n",
       "      <td>-34.73</td>\n",
       "      <td>135.87</td>\n",
       "      <td>72.61</td>\n",
       "      <td>50</td>\n",
       "      <td>0</td>\n",
       "      <td>9.15</td>\n",
       "      <td>AU</td>\n",
       "      <td>1579585390</td>\n",
       "    </tr>\n",
       "  </tbody>\n",
       "</table>\n",
       "</div>"
      ],
      "text/plain": [
       "     City_ID          City    Lat     Lng  Max Temp  Humidity  Cloudiness  \\\n",
       "30        30     cape town -33.93   18.42     71.01        82           0   \n",
       "219      219          doha  25.29   51.53     75.00        63           0   \n",
       "334      334           sur  22.57   59.53     72.23        47           0   \n",
       "410      410  san patricio  19.22 -104.70     79.11        72           0   \n",
       "459      459  port lincoln -34.73  135.87     72.61        50           0   \n",
       "\n",
       "     Wind Speed Country        Date  \n",
       "30         3.36      ZA  1579584964  \n",
       "219        6.93      QA  1579585266  \n",
       "334        1.50      OM  1579585314  \n",
       "410        5.41      MX  1579585362  \n",
       "459        9.15      AU  1579585390  "
      ]
     },
     "execution_count": 10,
     "metadata": {},
     "output_type": "execute_result"
    }
   ],
   "source": [
    "#NArrowing down cities that fit criteria and drop results with no values\n",
    "\n",
    "narrowed_city_df = city_data_df.loc[(city_data_df[\"Max Temp\"]< 80)& (city_data_df[\"Max Temp\"]>70)\\\n",
    "                                   & (city_data_df[\"Wind Speed\"]<10)\\\n",
    "                                   &(city_data_df[\"Cloudiness\"]== 0)].dropna()\n",
    "\n",
    "narrowed_city_df"
   ]
  },
  {
   "cell_type": "markdown",
   "metadata": {},
   "source": [
    "### Hotel Map\n",
    "* Store into variable named `hotel_df`.\n",
    "* Add a \"Hotel Name\" column to the DataFrame.\n",
    "* Set parameters to search for hotels with 5000 meters.\n",
    "* Hit the Google Places API for each city's coordinates.\n",
    "* Store the first Hotel result into the DataFrame.\n",
    "* Plot markers on top of the heatmap."
   ]
  },
  {
   "cell_type": "code",
   "execution_count": 12,
   "metadata": {},
   "outputs": [
    {
     "data": {
      "text/html": [
       "<div>\n",
       "<style scoped>\n",
       "    .dataframe tbody tr th:only-of-type {\n",
       "        vertical-align: middle;\n",
       "    }\n",
       "\n",
       "    .dataframe tbody tr th {\n",
       "        vertical-align: top;\n",
       "    }\n",
       "\n",
       "    .dataframe thead th {\n",
       "        text-align: right;\n",
       "    }\n",
       "</style>\n",
       "<table border=\"1\" class=\"dataframe\">\n",
       "  <thead>\n",
       "    <tr style=\"text-align: right;\">\n",
       "      <th></th>\n",
       "      <th>City</th>\n",
       "      <th>Country</th>\n",
       "      <th>Lat</th>\n",
       "      <th>Lng</th>\n",
       "      <th>Hotel Name</th>\n",
       "    </tr>\n",
       "  </thead>\n",
       "  <tbody>\n",
       "    <tr>\n",
       "      <td>30</td>\n",
       "      <td>cape town</td>\n",
       "      <td>ZA</td>\n",
       "      <td>-33.93</td>\n",
       "      <td>18.42</td>\n",
       "      <td></td>\n",
       "    </tr>\n",
       "    <tr>\n",
       "      <td>219</td>\n",
       "      <td>doha</td>\n",
       "      <td>QA</td>\n",
       "      <td>25.29</td>\n",
       "      <td>51.53</td>\n",
       "      <td></td>\n",
       "    </tr>\n",
       "    <tr>\n",
       "      <td>334</td>\n",
       "      <td>sur</td>\n",
       "      <td>OM</td>\n",
       "      <td>22.57</td>\n",
       "      <td>59.53</td>\n",
       "      <td></td>\n",
       "    </tr>\n",
       "    <tr>\n",
       "      <td>410</td>\n",
       "      <td>san patricio</td>\n",
       "      <td>MX</td>\n",
       "      <td>19.22</td>\n",
       "      <td>-104.70</td>\n",
       "      <td></td>\n",
       "    </tr>\n",
       "    <tr>\n",
       "      <td>459</td>\n",
       "      <td>port lincoln</td>\n",
       "      <td>AU</td>\n",
       "      <td>-34.73</td>\n",
       "      <td>135.87</td>\n",
       "      <td></td>\n",
       "    </tr>\n",
       "  </tbody>\n",
       "</table>\n",
       "</div>"
      ],
      "text/plain": [
       "             City Country    Lat     Lng Hotel Name\n",
       "30      cape town      ZA -33.93   18.42           \n",
       "219          doha      QA  25.29   51.53           \n",
       "334           sur      OM  22.57   59.53           \n",
       "410  san patricio      MX  19.22 -104.70           \n",
       "459  port lincoln      AU -34.73  135.87           "
      ]
     },
     "execution_count": 12,
     "metadata": {},
     "output_type": "execute_result"
    }
   ],
   "source": [
    "hotel_df= narrowed_city_df[[\"City\",\"Country\",\"Lat\",\"Lng\"]].copy()\n",
    "hotel_df[\"Hotel Name\"]=\"\"\n",
    "hotel_df"
   ]
  },
  {
   "cell_type": "code",
   "execution_count": 15,
   "metadata": {},
   "outputs": [
    {
     "data": {
      "text/html": [
       "<div>\n",
       "<style scoped>\n",
       "    .dataframe tbody tr th:only-of-type {\n",
       "        vertical-align: middle;\n",
       "    }\n",
       "\n",
       "    .dataframe tbody tr th {\n",
       "        vertical-align: top;\n",
       "    }\n",
       "\n",
       "    .dataframe thead th {\n",
       "        text-align: right;\n",
       "    }\n",
       "</style>\n",
       "<table border=\"1\" class=\"dataframe\">\n",
       "  <thead>\n",
       "    <tr style=\"text-align: right;\">\n",
       "      <th></th>\n",
       "      <th>City</th>\n",
       "      <th>Country</th>\n",
       "      <th>Lat</th>\n",
       "      <th>Lng</th>\n",
       "      <th>Hotel Name</th>\n",
       "    </tr>\n",
       "  </thead>\n",
       "  <tbody>\n",
       "    <tr>\n",
       "      <td>30</td>\n",
       "      <td>cape town</td>\n",
       "      <td>ZA</td>\n",
       "      <td>-33.93</td>\n",
       "      <td>18.42</td>\n",
       "      <td>Southern Sun Waterfront Cape Town</td>\n",
       "    </tr>\n",
       "    <tr>\n",
       "      <td>219</td>\n",
       "      <td>doha</td>\n",
       "      <td>QA</td>\n",
       "      <td>25.29</td>\n",
       "      <td>51.53</td>\n",
       "      <td>Mövenpick Hotel Doha</td>\n",
       "    </tr>\n",
       "    <tr>\n",
       "      <td>334</td>\n",
       "      <td>sur</td>\n",
       "      <td>OM</td>\n",
       "      <td>22.57</td>\n",
       "      <td>59.53</td>\n",
       "      <td>Sur Plaza Hotel</td>\n",
       "    </tr>\n",
       "    <tr>\n",
       "      <td>410</td>\n",
       "      <td>san patricio</td>\n",
       "      <td>MX</td>\n",
       "      <td>19.22</td>\n",
       "      <td>-104.70</td>\n",
       "      <td>Hotel Cabo Blanco</td>\n",
       "    </tr>\n",
       "    <tr>\n",
       "      <td>459</td>\n",
       "      <td>port lincoln</td>\n",
       "      <td>AU</td>\n",
       "      <td>-34.73</td>\n",
       "      <td>135.87</td>\n",
       "      <td>Port Lincoln Hotel</td>\n",
       "    </tr>\n",
       "  </tbody>\n",
       "</table>\n",
       "</div>"
      ],
      "text/plain": [
       "             City Country    Lat     Lng                         Hotel Name\n",
       "30      cape town      ZA -33.93   18.42  Southern Sun Waterfront Cape Town\n",
       "219          doha      QA  25.29   51.53               Mövenpick Hotel Doha\n",
       "334           sur      OM  22.57   59.53                    Sur Plaza Hotel\n",
       "410  san patricio      MX  19.22 -104.70                  Hotel Cabo Blanco\n",
       "459  port lincoln      AU -34.73  135.87                 Port Lincoln Hotel"
      ]
     },
     "execution_count": 15,
     "metadata": {},
     "output_type": "execute_result"
    }
   ],
   "source": [
    "params = {\n",
    "    \"radius\":5000,\n",
    "    \"type\":\"lodging\",\n",
    "    \"key\":g_key\n",
    "}\n",
    "\n",
    "for index, row in hotel_df.iterrows():\n",
    "    #get lat and lng\n",
    "    lat = row[\"Lat\"]\n",
    "    lng = row[\"Lng\"]\n",
    "    \n",
    "    params[\"location\"]=f\"{lat},{lng}\"\n",
    "    \n",
    "    #use the search term: hotel and out lat/lng\n",
    "    base_url = \"https://maps.googleapis.com/maps/api/place/nearbysearch/json\"\n",
    "    \n",
    "    name_address = requests.get(base_url,params=params).json()\n",
    "    \n",
    "    try:\n",
    "        hotel_df.loc[index,\"Hotel Name\"]= name_address[\"results\"][0][\"name\"]\n",
    "    except(KeyError, IndexError):\n",
    "        print(\"Missing field/result...skipping\")\n",
    "hotel_df\n"
   ]
  },
  {
   "cell_type": "code",
   "execution_count": null,
   "metadata": {},
   "outputs": [],
   "source": [
    "\n"
   ]
  },
  {
   "cell_type": "code",
   "execution_count": 18,
   "metadata": {},
   "outputs": [],
   "source": [
    "# NOTE: Do not change any of the code in this cell\n",
    "\n",
    "# Using the template add the hotel marks to the heatmap\n",
    "info_box_template = \"\"\"\n",
    "<dl>\n",
    "<dt>Name</dt><dd>{Hotel Name}</dd>\n",
    "<dt>City</dt><dd>{City}</dd>\n",
    "<dt>Country</dt><dd>{Country}</dd>\n",
    "</dl>\n",
    "\"\"\"\n",
    "# Store the DataFrame Row\n",
    "# NOTE: be sure to update with your DataFrame name\n",
    "hotel_info = [info_box_template.format(**row) for index, row in hotel_df.iterrows()]\n",
    "locations = hotel_df[[\"Lat\", \"Lng\"]]"
   ]
  },
  {
   "cell_type": "code",
   "execution_count": 19,
   "metadata": {},
   "outputs": [
    {
     "data": {
      "application/vnd.jupyter.widget-view+json": {
       "model_id": "ff0090f569cb4de7980e45c351d23a2e",
       "version_major": 2,
       "version_minor": 0
      },
      "text/plain": [
       "Figure(layout=FigureLayout(height='420px'))"
      ]
     },
     "metadata": {},
     "output_type": "display_data"
    }
   ],
   "source": [
    "# Add marker layer ontop of heat map\n",
    "marker_layer=gmaps.marker_layer(locations,info_box_content=hotel_info)\n",
    "\n",
    "fig.add_layer(marker_layer)\n",
    "# Display Map\n",
    "fig"
   ]
  },
  {
   "cell_type": "code",
   "execution_count": null,
   "metadata": {},
   "outputs": [],
   "source": []
  }
 ],
 "metadata": {
  "kernelspec": {
   "display_name": "Python 3",
   "language": "python",
   "name": "python3"
  },
  "language_info": {
   "codemirror_mode": {
    "name": "ipython",
    "version": 3
   },
   "file_extension": ".py",
   "mimetype": "text/x-python",
   "name": "python",
   "nbconvert_exporter": "python",
   "pygments_lexer": "ipython3",
   "version": "3.7.4"
  },
  "latex_envs": {
   "LaTeX_envs_menu_present": true,
   "autoclose": false,
   "autocomplete": true,
   "bibliofile": "biblio.bib",
   "cite_by": "apalike",
   "current_citInitial": 1,
   "eqLabelWithNumbers": true,
   "eqNumInitial": 1,
   "hotkeys": {
    "equation": "Ctrl-E",
    "itemize": "Ctrl-I"
   },
   "labels_anchors": false,
   "latex_user_defs": false,
   "report_style_numbering": false,
   "user_envs_cfg": false
  }
 },
 "nbformat": 4,
 "nbformat_minor": 2
}
